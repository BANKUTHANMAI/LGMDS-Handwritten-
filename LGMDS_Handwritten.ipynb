{
  "nbformat": 4,
  "nbformat_minor": 0,
  "metadata": {
    "colab": {
      "provenance": [],
      "authorship_tag": "ABX9TyPxSP6LAZTP6bZ47w7fo+dN",
      "include_colab_link": true
    },
    "kernelspec": {
      "name": "python3",
      "display_name": "Python 3"
    },
    "language_info": {
      "name": "python"
    }
  },
  "cells": [
    {
      "cell_type": "markdown",
      "metadata": {
        "id": "view-in-github",
        "colab_type": "text"
      },
      "source": [
        "<a href=\"https://colab.research.google.com/github/BANKUTHANMAI/LGMDS-Handwritten-/blob/main/LGMDS_Handwritten.ipynb\" target=\"_parent\"><img src=\"https://colab.research.google.com/assets/colab-badge.svg\" alt=\"Open In Colab\"/></a>"
      ]
    },
    {
      "cell_type": "code",
      "execution_count": 2,
      "metadata": {
        "id": "I9SZomVmvTPI"
      },
      "outputs": [],
      "source": [
        "import numpy as np\n",
        "import pandas as pd\n",
        "import matplotlib.pyplot as plt"
      ]
    },
    {
      "cell_type": "code",
      "source": [
        "from keras.layers import Convolution2D,MaxPooling2D,Dense,Activation,Flatten\n",
        "from keras.optimizers import Adam\n",
        "from keras.models import Sequential"
      ],
      "metadata": {
        "id": "-W_XIUzMvXwr"
      },
      "execution_count": 3,
      "outputs": []
    },
    {
      "cell_type": "code",
      "source": [
        "from keras.datasets import mnist"
      ],
      "metadata": {
        "id": "Uhgoz_Phva6e"
      },
      "execution_count": 4,
      "outputs": []
    },
    {
      "cell_type": "code",
      "source": [
        "(x_train,y_train),(x_test,y_test)=mnist.load_data()"
      ],
      "metadata": {
        "colab": {
          "base_uri": "https://localhost:8080/"
        },
        "id": "EKJae6Mfva9x",
        "outputId": "82955cd2-dc74-4db9-d906-4d7b86b544fc"
      },
      "execution_count": 5,
      "outputs": [
        {
          "output_type": "stream",
          "name": "stdout",
          "text": [
            "Downloading data from https://storage.googleapis.com/tensorflow/tf-keras-datasets/mnist.npz\n",
            "11490434/11490434 [==============================] - 1s 0us/step\n"
          ]
        }
      ]
    },
    {
      "cell_type": "code",
      "source": [
        "plt.figure(figsize=(20,20))\n",
        "for i in range(0,10):\n",
        "  plt.subplot(1,10,i+1)\n",
        "  plt.imshow(x_train[i]) \n",
        "  plt.title(y_train[i])\n",
        "plt.show()"
      ],
      "metadata": {
        "colab": {
          "base_uri": "https://localhost:8080/",
          "height": 158
        },
        "id": "YbfpcyP-vbA_",
        "outputId": "2f7e1025-24c3-44a3-f553-c36d39065886"
      },
      "execution_count": 27,
      "outputs": [
        {
          "output_type": "display_data",
          "data": {
            "text/plain": [
              "<Figure size 1440x1440 with 10 Axes>"
            ],
            "image/png": "[encoded data removed]"
          },
          "metadata": {
            "needs_background": "light"
          }
        }
      ]
    },
    {
      "cell_type": "code",
      "source": [
        "classifier=Sequential()"
      ],
      "metadata": {
        "id": "7b35dE7ovbEX"
      },
      "execution_count": 12,
      "outputs": []
    },
    {
      "cell_type": "code",
      "source": [
        "x_train=x_train.reshape((x_train.shape[0], 28, 28, 1))"
      ],
      "metadata": {
        "id": "lYalkd4SvX2u"
      },
      "execution_count": 13,
      "outputs": []
    },
    {
      "cell_type": "code",
      "source": [
        "x_test=x_test.reshape((x_test.shape[0],28,28,1))"
      ],
      "metadata": {
        "id": "0J_04RnvvX5_"
      },
      "execution_count": 14,
      "outputs": []
    },
    {
      "cell_type": "code",
      "source": [
        "x_train=x_train/255\n",
        "x_test=x_test/255"
      ],
      "metadata": {
        "id": "tsiKMyhtvX9B"
      },
      "execution_count": 10,
      "outputs": []
    },
    {
      "cell_type": "code",
      "source": [
        "classifier.add(Convolution2D(32,(3,3),activation='relu',input_shape=(28,28,1)))"
      ],
      "metadata": {
        "id": "LRIbL7GmwSH-"
      },
      "execution_count": 15,
      "outputs": []
    },
    {
      "cell_type": "code",
      "source": [
        "classifier.add(MaxPooling2D(2,2))"
      ],
      "metadata": {
        "id": "FmJYj8HTwSQB"
      },
      "execution_count": 16,
      "outputs": []
    },
    {
      "cell_type": "code",
      "source": [
        "classifier.add(Flatten())"
      ],
      "metadata": {
        "id": "HM2LeyASwSUF"
      },
      "execution_count": 17,
      "outputs": []
    },
    {
      "cell_type": "code",
      "source": [
        "classifier.add(Dense(100,activation='relu'))"
      ],
      "metadata": {
        "id": "hgSIkvxCwSXv"
      },
      "execution_count": 18,
      "outputs": []
    },
    {
      "cell_type": "code",
      "source": [
        "classifier.compile(loss='sparse_categorical_crossentropy',optimizer='adam',metrics=['accuracy'])"
      ],
      "metadata": {
        "id": "TxGuzOJbwfpN"
      },
      "execution_count": 19,
      "outputs": []
    },
    {
      "cell_type": "code",
      "source": [
        "classifier.fit(x_train,y_train,epochs=5)"
      ],
      "metadata": {
        "colab": {
          "base_uri": "https://localhost:8080/"
        },
        "id": "HS9n6tUMwfsU",
        "outputId": "2b74306e-486d-4b1f-9e13-302952310b17"
      },
      "execution_count": 20,
      "outputs": [
        {
          "output_type": "stream",
          "name": "stdout",
          "text": [
            "Epoch 1/5\n",
            "1875/1875 [==============================] - 45s 24ms/step - loss: 4.6027 - accuracy: 0.1040\n",
            "Epoch 2/5\n",
            "1875/1875 [==============================] - 42s 22ms/step - loss: 4.6051 - accuracy: 0.0987\n",
            "Epoch 3/5\n",
            "1875/1875 [==============================] - 42s 22ms/step - loss: 4.6051 - accuracy: 0.0987\n",
            "Epoch 4/5\n",
            "1875/1875 [==============================] - 44s 23ms/step - loss: 4.6051 - accuracy: 0.0987\n",
            "Epoch 5/5\n",
            "1875/1875 [==============================] - 45s 24ms/step - loss: 4.6051 - accuracy: 0.0987\n"
          ]
        },
        {
          "output_type": "execute_result",
          "data": {
            "text/plain": [
              "<keras.callbacks.History at 0x7f1ce66f36a0>"
            ]
          },
          "metadata": {},
          "execution_count": 20
        }
      ]
    },
    {
      "cell_type": "code",
      "source": [
        "score=classifier.evaluate(x_test,y_test)"
      ],
      "metadata": {
        "colab": {
          "base_uri": "https://localhost:8080/"
        },
        "id": "kZ84nwxywub_",
        "outputId": "5cfc1e58-1b42-411b-b3be-ed3aabe91992"
      },
      "execution_count": 21,
      "outputs": [
        {
          "output_type": "stream",
          "name": "stdout",
          "text": [
            "313/313 [==============================] - 3s 8ms/step - loss: 4.6052 - accuracy: 0.0980\n"
          ]
        }
      ]
    },
    {
      "cell_type": "code",
      "source": [
        "print(score)"
      ],
      "metadata": {
        "colab": {
          "base_uri": "https://localhost:8080/"
        },
        "id": "X4xH7g0Ewuez",
        "outputId": "c0ec2fce-bd12-4232-ca0a-55bb9c4ffe90"
      },
      "execution_count": 22,
      "outputs": [
        {
          "output_type": "stream",
          "name": "stdout",
          "text": [
            "[4.60518217086792, 0.09799999743700027]\n"
          ]
        }
      ]
    }
  ]
}